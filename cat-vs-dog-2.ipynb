{
 "cells": [
  {
   "cell_type": "code",
   "execution_count": 1,
   "id": "3192410a",
   "metadata": {
    "_cell_guid": "b1076dfc-b9ad-4769-8c92-a6c4dae69d19",
    "_uuid": "8f2839f25d086af736a60e9eeb907d3b93b6e0e5",
    "execution": {
     "iopub.execute_input": "2023-06-30T09:12:41.327150Z",
     "iopub.status.busy": "2023-06-30T09:12:41.326719Z",
     "iopub.status.idle": "2023-06-30T09:12:41.482097Z",
     "shell.execute_reply": "2023-06-30T09:12:41.481149Z"
    },
    "papermill": {
     "duration": 0.163389,
     "end_time": "2023-06-30T09:12:41.484497",
     "exception": false,
     "start_time": "2023-06-30T09:12:41.321108",
     "status": "completed"
    },
    "tags": []
   },
   "outputs": [],
   "source": [
    "# This Python 3 environment comes with many helpful analytics libraries installed\n",
    "# It is defined by the kaggle/python Docker image: https://github.com/kaggle/docker-python\n",
    "# For example, here's several helpful packages to load\n",
    "\n",
    "import numpy as np # linear algebra\n",
    "import pandas as pd # data processing, CSV file I/O (e.g. pd.read_csv)\n",
    "\n",
    "# Input data files are available in the read-only \"../input/\" directory\n",
    "# For example, running this (by clicking run or pressing Shift+Enter) will list all files under the input directory\n",
    "\n",
    "import os\n",
    "import cv2\n",
    "# You can write up to 20GB to the current directory (/kaggle/working/) that gets preserved as output when you create a version using \"Save & Run All\" \n",
    "# You can also write temporary files to /kaggle/temp/, but they won't be saved outside of the current session"
   ]
  },
  {
   "cell_type": "code",
   "execution_count": 2,
   "id": "eedd6e6c",
   "metadata": {
    "execution": {
     "iopub.execute_input": "2023-06-30T09:12:41.492968Z",
     "iopub.status.busy": "2023-06-30T09:12:41.492362Z",
     "iopub.status.idle": "2023-06-30T09:15:42.374461Z",
     "shell.execute_reply": "2023-06-30T09:15:42.373504Z"
    },
    "papermill": {
     "duration": 180.888798,
     "end_time": "2023-06-30T09:15:42.376829",
     "exception": false,
     "start_time": "2023-06-30T09:12:41.488031",
     "status": "completed"
    },
    "tags": []
   },
   "outputs": [
    {
     "name": "stdout",
     "output_type": "stream",
     "text": [
      "Failed to read image: 6059.jpg\n",
      "Failed to read image: 11849.jpg\n",
      "Failed to read image: 3288.jpg\n",
      "Failed to read image: 6238.jpg\n"
     ]
    },
    {
     "name": "stderr",
     "output_type": "stream",
     "text": [
      "Corrupt JPEG data: 226 extraneous bytes before marker 0xd9\n"
     ]
    },
    {
     "name": "stdout",
     "output_type": "stream",
     "text": [
      "Failed to read image: 2688.jpg\n"
     ]
    },
    {
     "name": "stderr",
     "output_type": "stream",
     "text": [
      "Corrupt JPEG data: 65 extraneous bytes before marker 0xd9\n"
     ]
    },
    {
     "name": "stdout",
     "output_type": "stream",
     "text": [
      "Failed to read image: 7112.jpg\n",
      "Failed to read image: 8730.jpg\n",
      "Failed to read image: 11702.jpg\n",
      "Failed to read image: 7133.jpg\n"
     ]
    },
    {
     "name": "stderr",
     "output_type": "stream",
     "text": [
      "Warning: unknown JFIF revision number 0.00\n"
     ]
    },
    {
     "name": "stdout",
     "output_type": "stream",
     "text": [
      "Failed to read image: 11853.jpg\n",
      "Failed to read image: 7969.jpg\n",
      "Failed to read image: 7459.jpg\n",
      "Failed to read image: 10747.jpg\n"
     ]
    },
    {
     "name": "stderr",
     "output_type": "stream",
     "text": [
      "Corrupt JPEG data: 254 extraneous bytes before marker 0xd9\n"
     ]
    },
    {
     "name": "stdout",
     "output_type": "stream",
     "text": [
      "Failed to read image: 6718.jpg\n",
      "Failed to read image: 2877.jpg\n",
      "Failed to read image: 3136.jpg\n"
     ]
    },
    {
     "name": "stderr",
     "output_type": "stream",
     "text": [
      "Corrupt JPEG data: 1403 extraneous bytes before marker 0xd9\n",
      "Corrupt JPEG data: 162 extraneous bytes before marker 0xd9\n",
      "Corrupt JPEG data: 2230 extraneous bytes before marker 0xd9\n"
     ]
    },
    {
     "name": "stdout",
     "output_type": "stream",
     "text": [
      "Failed to read image: 11675.jpg\n",
      "Failed to read image: 4367.jpg\n",
      "Failed to read image: Thumbs.db\n",
      "Failed to read image: 5604.jpg\n",
      "Failed to read image: 9188.jpg\n",
      "Failed to read image: 3588.jpg\n",
      "Failed to read image: 11410.jpg\n",
      "Failed to read image: 1308.jpg\n",
      "Failed to read image: 10158.jpg\n",
      "Failed to read image: 2384.jpg\n"
     ]
    },
    {
     "name": "stderr",
     "output_type": "stream",
     "text": [
      "Corrupt JPEG data: 399 extraneous bytes before marker 0xd9\n",
      "Corrupt JPEG data: 239 extraneous bytes before marker 0xd9\n"
     ]
    },
    {
     "name": "stdout",
     "output_type": "stream",
     "text": [
      "Failed to read image: 4833.jpg\n",
      "Failed to read image: 850.jpg\n",
      "Failed to read image: 8470.jpg\n"
     ]
    },
    {
     "name": "stderr",
     "output_type": "stream",
     "text": [
      "Corrupt JPEG data: 99 extraneous bytes before marker 0xd9\n"
     ]
    },
    {
     "name": "stdout",
     "output_type": "stream",
     "text": [
      "Failed to read image: 11210.jpg\n",
      "Failed to read image: 660.jpg\n",
      "Failed to read image: 140.jpg\n",
      "Failed to read image: 10820.jpg\n",
      "Failed to read image: 10501.jpg\n",
      "Failed to read image: 9171.jpg\n"
     ]
    },
    {
     "name": "stderr",
     "output_type": "stream",
     "text": [
      "Corrupt JPEG data: 214 extraneous bytes before marker 0xd9\n"
     ]
    },
    {
     "name": "stdout",
     "output_type": "stream",
     "text": [
      "Failed to read image: 9778.jpg\n"
     ]
    },
    {
     "name": "stderr",
     "output_type": "stream",
     "text": [
      "Corrupt JPEG data: 128 extraneous bytes before marker 0xd9\n"
     ]
    },
    {
     "name": "stdout",
     "output_type": "stream",
     "text": [
      "Failed to read image: 2663.jpg\n",
      "Failed to read image: 11935.jpg\n",
      "Failed to read image: 10125.jpg\n",
      "Failed to read image: 11874.jpg\n",
      "Failed to read image: 936.jpg\n",
      "Failed to read image: Thumbs.db\n",
      "Failed to read image: 5553.jpg\n",
      "Failed to read image: 7978.jpg\n",
      "Failed to read image: 3491.jpg\n",
      "Failed to read image: 3300.jpg\n"
     ]
    },
    {
     "name": "stderr",
     "output_type": "stream",
     "text": [
      "Corrupt JPEG data: 1153 extraneous bytes before marker 0xd9\n"
     ]
    },
    {
     "name": "stdout",
     "output_type": "stream",
     "text": [
      "Failed to read image: 666.jpg\n",
      "Failed to read image: 7968.jpg\n",
      "Failed to read image: 11565.jpg\n",
      "Failed to read image: 10404.jpg\n"
     ]
    }
   ],
   "source": [
    "import os\n",
    "import cv2\n",
    "from sklearn.model_selection import train_test_split\n",
    "import random\n",
    "\n",
    "def loadImages(directory, test_size=0.2, random_state=42, max_images_per_label=11000):\n",
    "    data = []\n",
    "    imageSize = 80\n",
    "    labels = os.listdir(directory)\n",
    "    for label in labels:\n",
    "        folder = os.listdir(os.path.join(directory, label))\n",
    "        image_count = 0  # Counter for the number of images per label\n",
    "        for file in folder:\n",
    "            if image_count >= max_images_per_label:\n",
    "                break\n",
    "            img_path = os.path.join(directory, label, file)\n",
    "            img = cv2.imread(img_path)\n",
    "            if img is not None:\n",
    "                img = cv2.resize(img, (imageSize, imageSize))\n",
    "                data.append([label, img])\n",
    "                image_count += 1\n",
    "            else:\n",
    "                print(f\"Failed to read image: {file}\")\n",
    "\n",
    "    # Shuffle the data indices\n",
    "    indices = list(range(len(data)))\n",
    "    random.shuffle(indices)\n",
    "\n",
    "    # Use shuffled indices to access shuffled data\n",
    "    shuffled_data = [data[i] for i in indices]\n",
    "\n",
    "    # Splitting the data into training and test sets\n",
    "    labels, images = zip(*shuffled_data)\n",
    "    X_train, X_test, y_train, y_test = train_test_split(\n",
    "        images, labels, test_size=test_size, random_state=random_state\n",
    "    )\n",
    "\n",
    "    return X_train, X_test, y_train, y_test\n",
    "\n",
    "X_train, X_test, y_train, y_test = loadImages('/kaggle/input/microsoft-catsvsdogs-dataset/PetImages')\n"
   ]
  },
  {
   "cell_type": "code",
   "execution_count": 3,
   "id": "1e9a0426",
   "metadata": {
    "execution": {
     "iopub.execute_input": "2023-06-30T09:15:42.393440Z",
     "iopub.status.busy": "2023-06-30T09:15:42.393133Z",
     "iopub.status.idle": "2023-06-30T09:15:42.574435Z",
     "shell.execute_reply": "2023-06-30T09:15:42.573554Z"
    },
    "papermill": {
     "duration": 0.191863,
     "end_time": "2023-06-30T09:15:42.576477",
     "exception": false,
     "start_time": "2023-06-30T09:15:42.384614",
     "status": "completed"
    },
    "tags": []
   },
   "outputs": [
    {
     "data": {
      "image/png": "[encoded data removed]",
      "text/plain": [
       "<Figure size 640x480 with 1 Axes>"
      ]
     },
     "metadata": {},
     "output_type": "display_data"
    }
   ],
   "source": [
    "import matplotlib.pyplot as plt\n",
    "\n",
    "# Assuming you have already loaded the data into X_train, X_test, y_train, y_test\n",
    "\n",
    "# Print the first image from the training dataset\n",
    "plt.imshow(X_train[1])\n",
    "plt.title(y_train[1])\n",
    "plt.axis('off')\n",
    "plt.show()"
   ]
  },
  {
   "cell_type": "code",
   "execution_count": 4,
   "id": "25bc958c",
   "metadata": {
    "execution": {
     "iopub.execute_input": "2023-06-30T09:15:42.594081Z",
     "iopub.status.busy": "2023-06-30T09:15:42.593781Z",
     "iopub.status.idle": "2023-06-30T09:15:46.069194Z",
     "shell.execute_reply": "2023-06-30T09:15:46.068331Z"
    },
    "papermill": {
     "duration": 3.486555,
     "end_time": "2023-06-30T09:15:46.071491",
     "exception": false,
     "start_time": "2023-06-30T09:15:42.584936",
     "status": "completed"
    },
    "tags": []
   },
   "outputs": [
    {
     "data": {
      "text/plain": [
       "(-0.5, 79.5, 79.5, -0.5)"
      ]
     },
     "execution_count": 4,
     "metadata": {},
     "output_type": "execute_result"
    },
    {
     "data": {
      "image/png": "[encoded data removed]",
      "text/plain": [
       "<Figure size 640x480 with 1 Axes>"
      ]
     },
     "metadata": {},
     "output_type": "display_data"
    }
   ],
   "source": [
    "def preprocess_images(images):\n",
    "    processed_images = []\n",
    "    for image in images:\n",
    "        # Convert image to grayscale\n",
    "        # Normalize pixel values\n",
    "        # image = cv2.cvtColor(image, cv2.COLOR_BGR2GRAY)\n",
    "        normalized_image = image / 255.0\n",
    "\n",
    "        processed_images.append(normalized_image)\n",
    "\n",
    "    return np.array(processed_images)\n",
    "# Preprocess training images\n",
    "X_train_processed = preprocess_images(X_train)\n",
    "del X_train\n",
    "# Preprocess test images\n",
    "X_test_processed = preprocess_images(X_test)\n",
    "del X_test\n",
    "# Print the first image from the training dataset\n",
    "plt.imshow(X_train_processed[1])\n",
    "plt.title(y_train[1])\n",
    "plt.axis('off')"
   ]
  },
  {
   "cell_type": "code",
   "execution_count": 5,
   "id": "204053ba",
   "metadata": {
    "execution": {
     "iopub.execute_input": "2023-06-30T09:15:46.090171Z",
     "iopub.status.busy": "2023-06-30T09:15:46.089858Z",
     "iopub.status.idle": "2023-06-30T09:15:56.255505Z",
     "shell.execute_reply": "2023-06-30T09:15:56.254717Z"
    },
    "papermill": {
     "duration": 10.203807,
     "end_time": "2023-06-30T09:15:56.283867",
     "exception": false,
     "start_time": "2023-06-30T09:15:46.080060",
     "status": "completed"
    },
    "tags": []
   },
   "outputs": [
    {
     "name": "stderr",
     "output_type": "stream",
     "text": [
      "/opt/conda/lib/python3.10/site-packages/tensorflow_io/python/ops/__init__.py:98: UserWarning: unable to load libtensorflow_io_plugins.so: unable to open file: libtensorflow_io_plugins.so, from paths: ['/opt/conda/lib/python3.10/site-packages/tensorflow_io/python/ops/libtensorflow_io_plugins.so']\n",
      "caused by: ['/opt/conda/lib/python3.10/site-packages/tensorflow_io/python/ops/libtensorflow_io_plugins.so: undefined symbol: _ZN3tsl6StatusC1EN10tensorflow5error4CodeESt17basic_string_viewIcSt11char_traitsIcEENS_14SourceLocationE']\n",
      "  warnings.warn(f\"unable to load libtensorflow_io_plugins.so: {e}\")\n",
      "/opt/conda/lib/python3.10/site-packages/tensorflow_io/python/ops/__init__.py:104: UserWarning: file system plugins are not loaded: unable to open file: libtensorflow_io.so, from paths: ['/opt/conda/lib/python3.10/site-packages/tensorflow_io/python/ops/libtensorflow_io.so']\n",
      "caused by: ['/opt/conda/lib/python3.10/site-packages/tensorflow_io/python/ops/libtensorflow_io.so: undefined symbol: _ZTVN10tensorflow13GcsFileSystemE']\n",
      "  warnings.warn(f\"file system plugins are not loaded: {e}\")\n"
     ]
    },
    {
     "name": "stdout",
     "output_type": "stream",
     "text": [
      "Model: \"sequential\"\n",
      "_________________________________________________________________\n",
      " Layer (type)                Output Shape              Param #   \n",
      "=================================================================\n",
      " conv2d (Conv2D)             (None, 80, 80, 16)        448       \n",
      "                                                                 \n",
      " max_pooling2d (MaxPooling2D  (None, 40, 40, 16)       0         \n",
      " )                                                               \n",
      "                                                                 \n",
      " conv2d_1 (Conv2D)           (None, 40, 40, 32)        4640      \n",
      "                                                                 \n",
      " max_pooling2d_1 (MaxPooling  (None, 20, 20, 32)       0         \n",
      " 2D)                                                             \n",
      "                                                                 \n",
      " conv2d_2 (Conv2D)           (None, 20, 20, 64)        18496     \n",
      "                                                                 \n",
      " max_pooling2d_2 (MaxPooling  (None, 10, 10, 64)       0         \n",
      " 2D)                                                             \n",
      "                                                                 \n",
      " conv2d_3 (Conv2D)           (None, 10, 10, 64)        36928     \n",
      "                                                                 \n",
      " max_pooling2d_3 (MaxPooling  (None, 5, 5, 64)         0         \n",
      " 2D)                                                             \n",
      "                                                                 \n",
      " flatten (Flatten)           (None, 1600)              0         \n",
      "                                                                 \n",
      " dropout (Dropout)           (None, 1600)              0         \n",
      "                                                                 \n",
      " dense (Dense)               (None, 128)               204928    \n",
      "                                                                 \n",
      " dropout_1 (Dropout)         (None, 128)               0         \n",
      "                                                                 \n",
      " dense_1 (Dense)             (None, 256)               33024     \n",
      "                                                                 \n",
      " dense_2 (Dense)             (None, 1)                 257       \n",
      "                                                                 \n",
      "=================================================================\n",
      "Total params: 298,721\n",
      "Trainable params: 298,721\n",
      "Non-trainable params: 0\n",
      "_________________________________________________________________\n"
     ]
    }
   ],
   "source": [
    "import tensorflow as tf\n",
    "from tensorflow.keras.models import Sequential\n",
    "from tensorflow.keras.layers import Conv2D, MaxPooling2D, Flatten, Dense, Dropout, Activation\n",
    "from keras.optimizers import SGD\n",
    "\n",
    "def create_model(input_shape, num_classes):\n",
    "    model = tf.keras.models.Sequential()\n",
    "    model.add(tf.keras.layers.Conv2D(16, kernel_size=(3,3), activation='relu',input_shape=(80,80,3), padding='same'))\n",
    "    # model.add(LeakyReLU(alpha=0.1))\n",
    "    model.add(tf.keras.layers.MaxPooling2D(pool_size=(2,2), padding='same'))\n",
    "    model.add(tf.keras.layers.Conv2D(32, kernel_size=(3,3), activation='relu', padding='same'))\n",
    "    # model.add(tf.keras.activations.relu(alpha=0.1))\n",
    "    model.add(tf.keras.layers.MaxPooling2D(pool_size=(2,2), padding='same'))\n",
    "    model.add(tf.keras.layers.Conv2D(64, kernel_size=(3,3), activation='relu', padding='same'))\n",
    "    # model.add(tf.keras.activations.relu(alpha=0.1))\n",
    "    model.add(tf.keras.layers.MaxPooling2D(pool_size=(2,2), padding='same'))\n",
    "    model.add(tf.keras.layers.Conv2D(64, kernel_size=(3,3), activation='relu', padding='same'))\n",
    "    # model.add(tf.keras.activations.relu(alpha=0.1))\n",
    "    model.add(tf.keras.layers.MaxPooling2D(pool_size=(2,2), padding='same'))\n",
    "    model.add(tf.keras.layers.Flatten())\n",
    "    model.add(tf.keras.layers.Dropout(0.5))\n",
    "    model.add(tf.keras.layers.Dense(128, activation=tf.nn.relu))\n",
    "    # model.add(tf.keras.activations.relu(alpha=0.1))\n",
    "    model.add(Dropout(0.5))\n",
    "    model.add(tf.keras.layers.Dense(256, activation=tf.nn.relu))\n",
    "    model.add(tf.keras.layers.Dense(1, activation='sigmoid'))\n",
    "    model.compile(optimizer='adam', loss='binary_crossentropy', metrics=['accuracy'])\n",
    "    model.summary()\n",
    "\n",
    "    return model\n",
    "\n",
    "input_shape = (80, 80, 3)  # Assuming the preprocessed images are grayscale\n",
    "num_classes = 2  # Binary classification: cat or dog\n",
    "\n",
    "model = create_model(input_shape, num_classes)\n"
   ]
  },
  {
   "cell_type": "code",
   "execution_count": 6,
   "id": "3ca3d282",
   "metadata": {
    "execution": {
     "iopub.execute_input": "2023-06-30T09:15:56.308304Z",
     "iopub.status.busy": "2023-06-30T09:15:56.307950Z",
     "iopub.status.idle": "2023-06-30T09:15:56.321390Z",
     "shell.execute_reply": "2023-06-30T09:15:56.320477Z"
    },
    "papermill": {
     "duration": 0.02809,
     "end_time": "2023-06-30T09:15:56.323459",
     "exception": false,
     "start_time": "2023-06-30T09:15:56.295369",
     "status": "completed"
    },
    "tags": []
   },
   "outputs": [],
   "source": [
    "def replace_labels_with_numbers(labels):\n",
    "    replaced_labels = []\n",
    "    for label in labels:\n",
    "        if label.lower() == 'dog':\n",
    "            replaced_labels.append(1)\n",
    "        elif label.lower() == 'cat':\n",
    "            replaced_labels.append(0)\n",
    "        else:\n",
    "            replaced_labels.append(label)\n",
    "    return replaced_labels\n",
    "y_train_encoded = replace_labels_with_numbers(y_train)\n",
    "y_test_encoded = replace_labels_with_numbers(y_test)\n"
   ]
  },
  {
   "cell_type": "code",
   "execution_count": 7,
   "id": "b270b95b",
   "metadata": {
    "execution": {
     "iopub.execute_input": "2023-06-30T09:15:56.348579Z",
     "iopub.status.busy": "2023-06-30T09:15:56.347582Z",
     "iopub.status.idle": "2023-06-30T09:15:57.572377Z",
     "shell.execute_reply": "2023-06-30T09:15:57.571077Z"
    },
    "papermill": {
     "duration": 1.23934,
     "end_time": "2023-06-30T09:15:57.574545",
     "exception": false,
     "start_time": "2023-06-30T09:15:56.335205",
     "status": "completed"
    },
    "tags": []
   },
   "outputs": [
    {
     "name": "stdout",
     "output_type": "stream",
     "text": [
      "[0 0 1 ... 0 0 1]\n"
     ]
    }
   ],
   "source": [
    "X_train_processed = np.array(X_train_processed)\n",
    "X_test_processed = np.array(X_test_processed)\n",
    "y_train_encoded = np.array(y_train_encoded)\n",
    "y_test_encoded = np.array(y_test_encoded)\n",
    "\n",
    "print(y_test_encoded)"
   ]
  },
  {
   "cell_type": "code",
   "execution_count": 8,
   "id": "860a3932",
   "metadata": {
    "execution": {
     "iopub.execute_input": "2023-06-30T09:15:57.600169Z",
     "iopub.status.busy": "2023-06-30T09:15:57.599080Z",
     "iopub.status.idle": "2023-06-30T09:19:23.805920Z",
     "shell.execute_reply": "2023-06-30T09:19:23.804845Z"
    },
    "papermill": {
     "duration": 206.222324,
     "end_time": "2023-06-30T09:19:23.808730",
     "exception": false,
     "start_time": "2023-06-30T09:15:57.586406",
     "status": "completed"
    },
    "tags": []
   },
   "outputs": [
    {
     "name": "stdout",
     "output_type": "stream",
     "text": [
      "Epoch 1/30\n",
      "880/880 [==============================] - 16s 7ms/step - loss: 0.6690 - accuracy: 0.5759 - val_loss: 0.6252 - val_accuracy: 0.6577\n",
      "Epoch 2/30\n",
      "880/880 [==============================] - 5s 6ms/step - loss: 0.5957 - accuracy: 0.6842 - val_loss: 0.5213 - val_accuracy: 0.7441\n",
      "Epoch 3/30\n",
      "880/880 [==============================] - 5s 6ms/step - loss: 0.5158 - accuracy: 0.7479 - val_loss: 0.5053 - val_accuracy: 0.7486\n",
      "Epoch 4/30\n",
      "880/880 [==============================] - 5s 6ms/step - loss: 0.4511 - accuracy: 0.7918 - val_loss: 0.4261 - val_accuracy: 0.8111\n",
      "Epoch 5/30\n",
      "880/880 [==============================] - 5s 6ms/step - loss: 0.4116 - accuracy: 0.8143 - val_loss: 0.3807 - val_accuracy: 0.8291\n",
      "Epoch 6/30\n",
      "880/880 [==============================] - 6s 6ms/step - loss: 0.3695 - accuracy: 0.8338 - val_loss: 0.3734 - val_accuracy: 0.8418\n",
      "Epoch 7/30\n",
      "880/880 [==============================] - 6s 6ms/step - loss: 0.3493 - accuracy: 0.8456 - val_loss: 0.3328 - val_accuracy: 0.8570\n",
      "Epoch 8/30\n",
      "880/880 [==============================] - 5s 6ms/step - loss: 0.3199 - accuracy: 0.8599 - val_loss: 0.3072 - val_accuracy: 0.8680\n",
      "Epoch 9/30\n",
      "880/880 [==============================] - 5s 6ms/step - loss: 0.3005 - accuracy: 0.8702 - val_loss: 0.3290 - val_accuracy: 0.8520\n",
      "Epoch 10/30\n",
      "880/880 [==============================] - 5s 6ms/step - loss: 0.2793 - accuracy: 0.8814 - val_loss: 0.3084 - val_accuracy: 0.8691\n",
      "Epoch 11/30\n",
      "880/880 [==============================] - 5s 6ms/step - loss: 0.2613 - accuracy: 0.8903 - val_loss: 0.3055 - val_accuracy: 0.8668\n",
      "Epoch 12/30\n",
      "880/880 [==============================] - 5s 6ms/step - loss: 0.2439 - accuracy: 0.8964 - val_loss: 0.3018 - val_accuracy: 0.8752\n",
      "Epoch 13/30\n",
      "880/880 [==============================] - 5s 6ms/step - loss: 0.2390 - accuracy: 0.9006 - val_loss: 0.2961 - val_accuracy: 0.8739\n",
      "Epoch 14/30\n",
      "880/880 [==============================] - 5s 6ms/step - loss: 0.2160 - accuracy: 0.9109 - val_loss: 0.2900 - val_accuracy: 0.8718\n",
      "Epoch 15/30\n",
      "880/880 [==============================] - 5s 6ms/step - loss: 0.2064 - accuracy: 0.9143 - val_loss: 0.2934 - val_accuracy: 0.8757\n",
      "Epoch 16/30\n",
      "880/880 [==============================] - 5s 6ms/step - loss: 0.2019 - accuracy: 0.9190 - val_loss: 0.3246 - val_accuracy: 0.8741\n",
      "Epoch 17/30\n",
      "880/880 [==============================] - 5s 6ms/step - loss: 0.1889 - accuracy: 0.9235 - val_loss: 0.3095 - val_accuracy: 0.8655\n",
      "Epoch 18/30\n",
      "880/880 [==============================] - 6s 7ms/step - loss: 0.1853 - accuracy: 0.9248 - val_loss: 0.2986 - val_accuracy: 0.8791\n",
      "Epoch 19/30\n",
      "880/880 [==============================] - 5s 6ms/step - loss: 0.1789 - accuracy: 0.9267 - val_loss: 0.2967 - val_accuracy: 0.8727\n",
      "Epoch 20/30\n",
      "880/880 [==============================] - 5s 6ms/step - loss: 0.1727 - accuracy: 0.9294 - val_loss: 0.3133 - val_accuracy: 0.8698\n",
      "Epoch 21/30\n",
      "880/880 [==============================] - 5s 6ms/step - loss: 0.1567 - accuracy: 0.9388 - val_loss: 0.3032 - val_accuracy: 0.8839\n",
      "Epoch 22/30\n",
      "880/880 [==============================] - 5s 6ms/step - loss: 0.1556 - accuracy: 0.9361 - val_loss: 0.3190 - val_accuracy: 0.8670\n",
      "Epoch 23/30\n",
      "880/880 [==============================] - 5s 6ms/step - loss: 0.1457 - accuracy: 0.9434 - val_loss: 0.3248 - val_accuracy: 0.8682\n",
      "Epoch 24/30\n",
      "880/880 [==============================] - 5s 6ms/step - loss: 0.1359 - accuracy: 0.9467 - val_loss: 0.3232 - val_accuracy: 0.8832\n",
      "Epoch 25/30\n",
      "880/880 [==============================] - 5s 6ms/step - loss: 0.1342 - accuracy: 0.9452 - val_loss: 0.2875 - val_accuracy: 0.8834\n",
      "Epoch 26/30\n",
      "880/880 [==============================] - 5s 6ms/step - loss: 0.1342 - accuracy: 0.9475 - val_loss: 0.3542 - val_accuracy: 0.8777\n",
      "Epoch 27/30\n",
      "880/880 [==============================] - 5s 6ms/step - loss: 0.1253 - accuracy: 0.9506 - val_loss: 0.3144 - val_accuracy: 0.8795\n",
      "Epoch 28/30\n",
      "880/880 [==============================] - 5s 6ms/step - loss: 0.1201 - accuracy: 0.9505 - val_loss: 0.3360 - val_accuracy: 0.8816\n",
      "Epoch 29/30\n",
      "880/880 [==============================] - 5s 6ms/step - loss: 0.1178 - accuracy: 0.9551 - val_loss: 0.3596 - val_accuracy: 0.8743\n",
      "Epoch 30/30\n",
      "880/880 [==============================] - 5s 6ms/step - loss: 0.1156 - accuracy: 0.9550 - val_loss: 0.3258 - val_accuracy: 0.8766\n"
     ]
    }
   ],
   "source": [
    "# Assuming you have one-hot encoded labels (y_train_encoded, y_test_encoded)\n",
    "history = model.fit(X_train_processed, y_train_encoded, batch_size=20, epochs=30, validation_data=(X_test_processed, y_test_encoded))"
   ]
  },
  {
   "cell_type": "code",
   "execution_count": 9,
   "id": "415ccf1d",
   "metadata": {
    "execution": {
     "iopub.execute_input": "2023-06-30T09:19:24.233170Z",
     "iopub.status.busy": "2023-06-30T09:19:24.232777Z",
     "iopub.status.idle": "2023-06-30T09:19:25.821451Z",
     "shell.execute_reply": "2023-06-30T09:19:25.820468Z"
    },
    "papermill": {
     "duration": 1.810333,
     "end_time": "2023-06-30T09:19:25.823518",
     "exception": false,
     "start_time": "2023-06-30T09:19:24.013185",
     "status": "completed"
    },
    "tags": []
   },
   "outputs": [
    {
     "name": "stdout",
     "output_type": "stream",
     "text": [
      "138/138 [==============================] - 1s 4ms/step - loss: 0.3258 - accuracy: 0.8766\n",
      "Test Loss: 0.3258027136325836\n",
      "Test Accuracy: 0.8765909075737\n"
     ]
    }
   ],
   "source": [
    "loss, accuracy = model.evaluate(X_test_processed, y_test_encoded)\n",
    "print(\"Test Loss:\", loss)\n",
    "print(\"Test Accuracy:\", accuracy)"
   ]
  }
 ],
 "metadata": {
  "kernelspec": {
   "display_name": "Python 3",
   "language": "python",
   "name": "python3"
  },
  "language_info": {
   "codemirror_mode": {
    "name": "ipython",
    "version": 3
   },
   "file_extension": ".py",
   "mimetype": "text/x-python",
   "name": "python",
   "nbconvert_exporter": "python",
   "pygments_lexer": "ipython3",
   "version": "3.10.10"
  },
  "papermill": {
   "default_parameters": {},
   "duration": 419.262913,
   "end_time": "2023-06-30T09:19:29.608337",
   "environment_variables": {},
   "exception": null,
   "input_path": "__notebook__.ipynb",
   "output_path": "__notebook__.ipynb",
   "parameters": {},
   "start_time": "2023-06-30T09:12:30.345424",
   "version": "2.4.0"
  }
 },
 "nbformat": 4,
 "nbformat_minor": 5
}
