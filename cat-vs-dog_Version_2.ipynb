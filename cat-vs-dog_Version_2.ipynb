{
 "cells": [
  {
   "cell_type": "code",
   "execution_count": 1,
   "id": "cc3252d1",
   "metadata": {
    "_cell_guid": "b1076dfc-b9ad-4769-8c92-a6c4dae69d19",
    "_uuid": "8f2839f25d086af736a60e9eeb907d3b93b6e0e5",
    "execution": {
     "iopub.execute_input": "2023-07-02T19:28:41.577603Z",
     "iopub.status.busy": "2023-07-02T19:28:41.577172Z",
     "iopub.status.idle": "2023-07-02T19:28:41.745408Z",
     "shell.execute_reply": "2023-07-02T19:28:41.744314Z"
    },
    "papermill": {
     "duration": 0.17645,
     "end_time": "2023-07-02T19:28:41.747867",
     "exception": false,
     "start_time": "2023-07-02T19:28:41.571417",
     "status": "completed"
    },
    "tags": []
   },
   "outputs": [],
   "source": [
    "import numpy as np # linear algebra\n",
    "import pandas as pd # data processing, CSV file I/O (e.g. pd.read_csv)\n",
    "\n",
    "import os\n",
    "import cv2"
   ]
  },
  {
   "cell_type": "code",
   "execution_count": 2,
   "id": "c71ebcdf",
   "metadata": {
    "execution": {
     "iopub.execute_input": "2023-07-02T19:28:41.756908Z",
     "iopub.status.busy": "2023-07-02T19:28:41.756098Z",
     "iopub.status.idle": "2023-07-02T19:33:30.987369Z",
     "shell.execute_reply": "2023-07-02T19:33:30.986372Z"
    },
    "papermill": {
     "duration": 289.238653,
     "end_time": "2023-07-02T19:33:30.990159",
     "exception": false,
     "start_time": "2023-07-02T19:28:41.751506",
     "status": "completed"
    },
    "tags": []
   },
   "outputs": [
    {
     "name": "stdout",
     "output_type": "stream",
     "text": [
      "Failed to read image: 6059.jpg Dog 227  images loaded\n",
      "Failed to read image: 11849.jpg Dog 235  images loaded\n",
      "Failed to read image: 3288.jpg Dog 1325  images loaded\n",
      "Failed to read image: 6238.jpg Dog 1345  images loaded\n"
     ]
    },
    {
     "name": "stderr",
     "output_type": "stream",
     "text": [
      "Corrupt JPEG data: 226 extraneous bytes before marker 0xd9\n"
     ]
    },
    {
     "name": "stdout",
     "output_type": "stream",
     "text": [
      "Failed to read image: 2688.jpg Dog 1778  images loaded\n"
     ]
    },
    {
     "name": "stderr",
     "output_type": "stream",
     "text": [
      "Corrupt JPEG data: 65 extraneous bytes before marker 0xd9\n"
     ]
    },
    {
     "name": "stdout",
     "output_type": "stream",
     "text": [
      "Failed to read image: 7112.jpg Dog 2989  images loaded\n",
      "Failed to read image: 8730.jpg Dog 3140  images loaded\n",
      "Failed to read image: 11702.jpg Dog 3382  images loaded\n",
      "Failed to read image: 7133.jpg Dog 3766  images loaded\n"
     ]
    },
    {
     "name": "stderr",
     "output_type": "stream",
     "text": [
      "Warning: unknown JFIF revision number 0.00\n"
     ]
    },
    {
     "name": "stdout",
     "output_type": "stream",
     "text": [
      "Failed to read image: 11853.jpg Dog 4255  images loaded\n",
      "Failed to read image: 7969.jpg Dog 5072  images loaded\n",
      "Failed to read image: 7459.jpg Dog 5452  images loaded\n",
      "Failed to read image: 10747.jpg Dog 5742  images loaded\n"
     ]
    },
    {
     "name": "stderr",
     "output_type": "stream",
     "text": [
      "Corrupt JPEG data: 254 extraneous bytes before marker 0xd9\n"
     ]
    },
    {
     "name": "stdout",
     "output_type": "stream",
     "text": [
      "Failed to read image: 6718.jpg Dog 6345  images loaded\n",
      "Failed to read image: 2877.jpg Dog 6440  images loaded\n",
      "Failed to read image: 3136.jpg Dog 6556  images loaded\n"
     ]
    },
    {
     "name": "stderr",
     "output_type": "stream",
     "text": [
      "Corrupt JPEG data: 1403 extraneous bytes before marker 0xd9\n",
      "Corrupt JPEG data: 162 extraneous bytes before marker 0xd9\n",
      "Corrupt JPEG data: 2230 extraneous bytes before marker 0xd9\n"
     ]
    },
    {
     "name": "stdout",
     "output_type": "stream",
     "text": [
      "Failed to read image: 11675.jpg Dog 7621  images loaded\n",
      "Failed to read image: 4367.jpg Dog 8038  images loaded\n",
      "Failed to read image: Thumbs.db Dog 8228  images loaded\n",
      "Failed to read image: 5604.jpg Dog 8230  images loaded\n",
      "Failed to read image: 9188.jpg Dog 8725  images loaded\n",
      "Failed to read image: 3588.jpg Dog 9132  images loaded\n",
      "Failed to read image: 11410.jpg Dog 9333  images loaded\n",
      "Failed to read image: 1308.jpg Dog 9471  images loaded\n",
      "Failed to read image: 10158.jpg Dog 9751  images loaded\n",
      "Failed to read image: 2384.jpg Dog 10177  images loaded\n"
     ]
    },
    {
     "name": "stderr",
     "output_type": "stream",
     "text": [
      "Corrupt JPEG data: 399 extraneous bytes before marker 0xd9\n"
     ]
    },
    {
     "name": "stdout",
     "output_type": "stream",
     "text": [
      "Failed to read image: 1866.jpg Dog 11468  images loaded\n",
      "Failed to read image: 7369.jpg Dog 11617  images loaded\n",
      "Failed to read image: 10797.jpg Dog 11720  images loaded\n",
      "Failed to read image: 10401.jpg Dog 11880  images loaded\n"
     ]
    },
    {
     "name": "stderr",
     "output_type": "stream",
     "text": [
      "Corrupt JPEG data: 239 extraneous bytes before marker 0xd9\n"
     ]
    },
    {
     "name": "stdout",
     "output_type": "stream",
     "text": [
      "Failed to read image: 4833.jpg Cat 818  images loaded\n",
      "Failed to read image: 850.jpg Cat 938  images loaded\n",
      "Failed to read image: 8470.jpg Cat 1296  images loaded\n"
     ]
    },
    {
     "name": "stderr",
     "output_type": "stream",
     "text": [
      "Corrupt JPEG data: 99 extraneous bytes before marker 0xd9\n"
     ]
    },
    {
     "name": "stdout",
     "output_type": "stream",
     "text": [
      "Failed to read image: 11210.jpg Cat 2746  images loaded\n",
      "Failed to read image: 660.jpg Cat 3377  images loaded\n",
      "Failed to read image: 140.jpg Cat 3972  images loaded\n",
      "Failed to read image: 10820.jpg Cat 4086  images loaded\n",
      "Failed to read image: 10501.jpg Cat 4801  images loaded\n",
      "Failed to read image: 9171.jpg Cat 5274  images loaded\n"
     ]
    },
    {
     "name": "stderr",
     "output_type": "stream",
     "text": [
      "Corrupt JPEG data: 214 extraneous bytes before marker 0xd9\n"
     ]
    },
    {
     "name": "stdout",
     "output_type": "stream",
     "text": [
      "Failed to read image: 9778.jpg Cat 5486  images loaded\n"
     ]
    },
    {
     "name": "stderr",
     "output_type": "stream",
     "text": [
      "Corrupt JPEG data: 128 extraneous bytes before marker 0xd9\n"
     ]
    },
    {
     "name": "stdout",
     "output_type": "stream",
     "text": [
      "Failed to read image: 2663.jpg Cat 6661  images loaded\n",
      "Failed to read image: 11935.jpg Cat 7662  images loaded\n",
      "Failed to read image: 10125.jpg Cat 8141  images loaded\n",
      "Failed to read image: 11874.jpg Cat 8221  images loaded\n",
      "Failed to read image: 936.jpg Cat 8229  images loaded\n",
      "Failed to read image: Thumbs.db Cat 8231  images loaded\n",
      "Failed to read image: 5553.jpg Cat 8271  images loaded\n",
      "Failed to read image: 7978.jpg Cat 8522  images loaded\n",
      "Failed to read image: 3491.jpg Cat 8600  images loaded\n",
      "Failed to read image: 3300.jpg Cat 8748  images loaded\n"
     ]
    },
    {
     "name": "stderr",
     "output_type": "stream",
     "text": [
      "Corrupt JPEG data: 1153 extraneous bytes before marker 0xd9\n"
     ]
    },
    {
     "name": "stdout",
     "output_type": "stream",
     "text": [
      "Failed to read image: 666.jpg Cat 9779  images loaded\n",
      "Failed to read image: 7968.jpg Cat 9996  images loaded\n",
      "Failed to read image: 11565.jpg Cat 10301  images loaded\n",
      "Failed to read image: 10404.jpg Cat 10384  images loaded\n",
      "Failed to read image: 9565.jpg Cat 11350  images loaded\n"
     ]
    }
   ],
   "source": [
    "import cv2\n",
    "from sklearn.model_selection import train_test_split\n",
    "import random\n",
    "\n",
    "imageSize = 80\n",
    "\n",
    "def loadImages(directory, test_size=0.2, random_state=42, max_images_per_label=12000):\n",
    "    data = []\n",
    "    labels = os.listdir(directory)\n",
    "    for label in labels:\n",
    "        folder = os.listdir(os.path.join(directory, label))\n",
    "        image_count = 0  # Counter for the number of images per label\n",
    "        for file in folder:\n",
    "            if image_count >= max_images_per_label:\n",
    "                break\n",
    "            img_path = os.path.join(directory, label, file)\n",
    "            img = cv2.imread(img_path)\n",
    "            if img is not None:\n",
    "                img = cv2.resize(img, (imageSize, imageSize))\n",
    "                # img = cv2.cvtColor(img, cv2.COLOR_BGR2GRAY)\n",
    "                img = img / 255.0\n",
    "                data.append([label, img])\n",
    "                image_count += 1\n",
    "            else:\n",
    "                print(f\"Failed to read image: {file}\", label, image_count, \" images loaded\")\n",
    "\n",
    "    # Shuffle the data indices\n",
    "    indices = list(range(len(data)))\n",
    "    random.shuffle(indices)\n",
    "\n",
    "    # Use shuffled indices to access shuffled data\n",
    "    shuffled_data = [data[i] for i in indices]\n",
    "\n",
    "    # Splitting the data into training and test sets\n",
    "    labels, images = zip(*shuffled_data)\n",
    "    X_train, X_test, y_train, y_test = train_test_split(\n",
    "        images, labels, test_size=test_size, random_state=random_state\n",
    "    )\n",
    "\n",
    "    return np.array(X_train), np.array(X_test), y_train, y_test\n",
    "\n",
    "X_train, X_test, y_train, y_test = loadImages('/kaggle/input/microsoft-catsvsdogs-dataset/PetImages')"
   ]
  },
  {
   "cell_type": "code",
   "execution_count": 3,
   "id": "b5471b0b",
   "metadata": {
    "execution": {
     "iopub.execute_input": "2023-07-02T19:33:31.009853Z",
     "iopub.status.busy": "2023-07-02T19:33:31.008108Z",
     "iopub.status.idle": "2023-07-02T19:33:31.344521Z",
     "shell.execute_reply": "2023-07-02T19:33:31.343587Z"
    },
    "papermill": {
     "duration": 0.348355,
     "end_time": "2023-07-02T19:33:31.346882",
     "exception": false,
     "start_time": "2023-07-02T19:33:30.998527",
     "status": "completed"
    },
    "tags": []
   },
   "outputs": [
    {
     "data": {
      "image/png": "[encoded data removed]",
      "text/plain": [
       "<Figure size 640x480 with 1 Axes>"
      ]
     },
     "metadata": {},
     "output_type": "display_data"
    }
   ],
   "source": [
    "import matplotlib.pyplot as plt\n",
    "\n",
    "# Assuming you have already loaded the data into X_train, X_test, y_train, y_test\n",
    "\n",
    "# Print the first image from the training dataset\n",
    "plt.imshow(X_train[1])\n",
    "plt.title(y_train[1])\n",
    "plt.axis('off')\n",
    "plt.show()"
   ]
  },
  {
   "cell_type": "code",
   "execution_count": 4,
   "id": "345641e6",
   "metadata": {
    "execution": {
     "iopub.execute_input": "2023-07-02T19:33:31.367414Z",
     "iopub.status.busy": "2023-07-02T19:33:31.365905Z",
     "iopub.status.idle": "2023-07-02T19:33:46.854930Z",
     "shell.execute_reply": "2023-07-02T19:33:46.853606Z"
    },
    "papermill": {
     "duration": 15.501289,
     "end_time": "2023-07-02T19:33:46.857344",
     "exception": false,
     "start_time": "2023-07-02T19:33:31.356055",
     "status": "completed"
    },
    "tags": []
   },
   "outputs": [
    {
     "name": "stdout",
     "output_type": "stream",
     "text": [
      "Requirement already satisfied: tensorflow-io in /opt/conda/lib/python3.10/site-packages (0.31.0)\r\n",
      "Collecting tensorflow-io\r\n",
      "  Downloading tensorflow_io-0.32.0-cp310-cp310-manylinux_2_12_x86_64.manylinux2010_x86_64.whl (28.0 MB)\r\n",
      "\u001b[2K     \u001b[90m━━━━━━━━━━━━━━━━━━━━━━━━━━━━━━━━━━━━━━━━\u001b[0m \u001b[32m28.0/28.0 MB\u001b[0m \u001b[31m45.1 MB/s\u001b[0m eta \u001b[36m0:00:00\u001b[0m\r\n",
      "\u001b[?25hCollecting tensorflow-io-gcs-filesystem==0.32.0 (from tensorflow-io)\r\n",
      "  Downloading tensorflow_io_gcs_filesystem-0.32.0-cp310-cp310-manylinux_2_12_x86_64.manylinux2010_x86_64.whl (2.4 MB)\r\n",
      "\u001b[2K     \u001b[90m━━━━━━━━━━━━━━━━━━━━━━━━━━━━━━━━━━━━━━━━\u001b[0m \u001b[32m2.4/2.4 MB\u001b[0m \u001b[31m73.1 MB/s\u001b[0m eta \u001b[36m0:00:00\u001b[0m\r\n",
      "\u001b[?25hInstalling collected packages: tensorflow-io-gcs-filesystem, tensorflow-io\r\n",
      "  Attempting uninstall: tensorflow-io-gcs-filesystem\r\n",
      "    Found existing installation: tensorflow-io-gcs-filesystem 0.31.0\r\n",
      "    Uninstalling tensorflow-io-gcs-filesystem-0.31.0:\r\n",
      "      Successfully uninstalled tensorflow-io-gcs-filesystem-0.31.0\r\n",
      "  Attempting uninstall: tensorflow-io\r\n",
      "    Found existing installation: tensorflow-io 0.31.0\r\n",
      "    Uninstalling tensorflow-io-0.31.0:\r\n",
      "      Successfully uninstalled tensorflow-io-0.31.0\r\n",
      "Successfully installed tensorflow-io-0.32.0 tensorflow-io-gcs-filesystem-0.32.0\r\n",
      "\u001b[33mWARNING: Running pip as the 'root' user can result in broken permissions and conflicting behaviour with the system package manager. It is recommended to use a virtual environment instead: https://pip.pypa.io/warnings/venv\u001b[0m\u001b[33m\r\n",
      "\u001b[0m"
     ]
    }
   ],
   "source": [
    "!pip install --upgrade tensorflow-io"
   ]
  },
  {
   "cell_type": "code",
   "execution_count": 5,
   "id": "d47f545f",
   "metadata": {
    "execution": {
     "iopub.execute_input": "2023-07-02T19:33:46.881460Z",
     "iopub.status.busy": "2023-07-02T19:33:46.880393Z",
     "iopub.status.idle": "2023-07-02T19:33:58.426209Z",
     "shell.execute_reply": "2023-07-02T19:33:58.425173Z"
    },
    "papermill": {
     "duration": 11.585399,
     "end_time": "2023-07-02T19:33:58.453725",
     "exception": false,
     "start_time": "2023-07-02T19:33:46.868326",
     "status": "completed"
    },
    "tags": []
   },
   "outputs": [
    {
     "name": "stdout",
     "output_type": "stream",
     "text": [
      "Model: \"sequential\"\n",
      "_________________________________________________________________\n",
      " Layer (type)                Output Shape              Param #   \n",
      "=================================================================\n",
      " conv2d (Conv2D)             (None, 80, 80, 16)        448       \n",
      "                                                                 \n",
      " max_pooling2d (MaxPooling2D  (None, 40, 40, 16)       0         \n",
      " )                                                               \n",
      "                                                                 \n",
      " conv2d_1 (Conv2D)           (None, 40, 40, 32)        4640      \n",
      "                                                                 \n",
      " max_pooling2d_1 (MaxPooling  (None, 20, 20, 32)       0         \n",
      " 2D)                                                             \n",
      "                                                                 \n",
      " conv2d_2 (Conv2D)           (None, 20, 20, 64)        18496     \n",
      "                                                                 \n",
      " max_pooling2d_2 (MaxPooling  (None, 10, 10, 64)       0         \n",
      " 2D)                                                             \n",
      "                                                                 \n",
      " conv2d_3 (Conv2D)           (None, 10, 10, 64)        36928     \n",
      "                                                                 \n",
      " max_pooling2d_3 (MaxPooling  (None, 5, 5, 64)         0         \n",
      " 2D)                                                             \n",
      "                                                                 \n",
      " flatten (Flatten)           (None, 1600)              0         \n",
      "                                                                 \n",
      " dropout (Dropout)           (None, 1600)              0         \n",
      "                                                                 \n",
      " dense (Dense)               (None, 128)               204928    \n",
      "                                                                 \n",
      " dropout_1 (Dropout)         (None, 128)               0         \n",
      "                                                                 \n",
      " dense_1 (Dense)             (None, 256)               33024     \n",
      "                                                                 \n",
      " dense_2 (Dense)             (None, 1)                 257       \n",
      "                                                                 \n",
      "=================================================================\n",
      "Total params: 298,721\n",
      "Trainable params: 298,721\n",
      "Non-trainable params: 0\n",
      "_________________________________________________________________\n"
     ]
    }
   ],
   "source": [
    "import tensorflow as tf\n",
    "from tensorflow.keras.models import Sequential\n",
    "from tensorflow.keras.layers import Conv2D, MaxPooling2D, Flatten, Dense, Dropout, Activation\n",
    "from keras.optimizers import SGD\n",
    "\n",
    "def create_model(input_shape, num_classes):\n",
    "    model = tf.keras.models.Sequential()\n",
    "    model.add(tf.keras.layers.Conv2D(16, kernel_size=(3,3), activation='relu',input_shape=(imageSize,imageSize,3), padding='same'))\n",
    "    model.add(tf.keras.layers.MaxPooling2D(pool_size=(2,2), padding='same'))\n",
    "    model.add(tf.keras.layers.Conv2D(32, kernel_size=(3,3), activation='relu', padding='same'))\n",
    "    model.add(tf.keras.layers.MaxPooling2D(pool_size=(2,2), padding='same'))\n",
    "    model.add(tf.keras.layers.Conv2D(64, kernel_size=(3,3), activation='relu', padding='same'))\n",
    "    model.add(tf.keras.layers.MaxPooling2D(pool_size=(2,2), padding='same'))\n",
    "    model.add(tf.keras.layers.Conv2D(64, kernel_size=(3,3), activation='relu', padding='same'))\n",
    "    model.add(tf.keras.layers.MaxPooling2D(pool_size=(2,2), padding='same'))\n",
    "    model.add(tf.keras.layers.Flatten())\n",
    "    model.add(tf.keras.layers.Dropout(0.5))\n",
    "    model.add(tf.keras.layers.Dense(128, activation=tf.nn.relu))\n",
    "    model.add(Dropout(0.5))\n",
    "    model.add(tf.keras.layers.Dense(256, activation=tf.nn.relu))\n",
    "    model.add(tf.keras.layers.Dense(1, activation='sigmoid'))\n",
    "    model.compile(optimizer='adam', loss='binary_crossentropy', metrics=['accuracy'])\n",
    "    model.summary()\n",
    "\n",
    "    return model\n",
    "\n",
    "input_shape = (imageSize, imageSize, 3)\n",
    "num_classes = 2\n",
    "\n",
    "model = create_model(input_shape, num_classes)"
   ]
  },
  {
   "cell_type": "code",
   "execution_count": 6,
   "id": "e4cf7537",
   "metadata": {
    "execution": {
     "iopub.execute_input": "2023-07-02T19:33:58.484575Z",
     "iopub.status.busy": "2023-07-02T19:33:58.484151Z",
     "iopub.status.idle": "2023-07-02T19:33:58.503406Z",
     "shell.execute_reply": "2023-07-02T19:33:58.502473Z"
    },
    "papermill": {
     "duration": 0.03743,
     "end_time": "2023-07-02T19:33:58.505884",
     "exception": false,
     "start_time": "2023-07-02T19:33:58.468454",
     "status": "completed"
    },
    "tags": []
   },
   "outputs": [],
   "source": [
    "def replace_labels_with_numbers(labels):\n",
    "    replaced_labels = []\n",
    "    for label in labels:\n",
    "        if label.lower() == 'dog':\n",
    "            replaced_labels.append(1)\n",
    "        elif label.lower() == 'cat':\n",
    "            replaced_labels.append(0)\n",
    "        else:\n",
    "            replaced_labels.append(label)\n",
    "    return replaced_labels\n",
    "y_train_encoded = np.array(replace_labels_with_numbers(y_train))\n",
    "y_test_encoded = np.array(replace_labels_with_numbers(y_test))\n"
   ]
  },
  {
   "cell_type": "code",
   "execution_count": 7,
   "id": "32f07038",
   "metadata": {
    "execution": {
     "iopub.execute_input": "2023-07-02T19:33:58.534148Z",
     "iopub.status.busy": "2023-07-02T19:33:58.533854Z",
     "iopub.status.idle": "2023-07-02T19:35:07.776607Z",
     "shell.execute_reply": "2023-07-02T19:35:07.775199Z"
    },
    "papermill": {
     "duration": 69.259357,
     "end_time": "2023-07-02T19:35:07.779276",
     "exception": false,
     "start_time": "2023-07-02T19:33:58.519919",
     "status": "completed"
    },
    "tags": []
   },
   "outputs": [
    {
     "name": "stdout",
     "output_type": "stream",
     "text": [
      "Epoch 1/10\n",
      "864/864 [==============================] - 17s 7ms/step - loss: 0.6546 - accuracy: 0.6096 - val_loss: 0.5964 - val_accuracy: 0.6755\n",
      "Epoch 2/10\n",
      "864/864 [==============================] - 6s 7ms/step - loss: 0.5742 - accuracy: 0.7007 - val_loss: 0.5181 - val_accuracy: 0.7391\n",
      "Epoch 3/10\n",
      "864/864 [==============================] - 5s 6ms/step - loss: 0.5124 - accuracy: 0.7480 - val_loss: 0.4978 - val_accuracy: 0.7677\n",
      "Epoch 4/10\n",
      "864/864 [==============================] - 5s 6ms/step - loss: 0.4588 - accuracy: 0.7830 - val_loss: 0.4686 - val_accuracy: 0.7833\n",
      "Epoch 5/10\n",
      "864/864 [==============================] - 5s 6ms/step - loss: 0.4108 - accuracy: 0.8158 - val_loss: 0.3922 - val_accuracy: 0.8250\n",
      "Epoch 6/10\n",
      "864/864 [==============================] - 5s 6ms/step - loss: 0.3692 - accuracy: 0.8347 - val_loss: 0.3576 - val_accuracy: 0.8349\n",
      "Epoch 7/10\n",
      "864/864 [==============================] - 5s 6ms/step - loss: 0.3358 - accuracy: 0.8544 - val_loss: 0.3501 - val_accuracy: 0.8365\n",
      "Epoch 8/10\n",
      "864/864 [==============================] - 6s 7ms/step - loss: 0.3083 - accuracy: 0.8648 - val_loss: 0.3200 - val_accuracy: 0.8641\n",
      "Epoch 9/10\n",
      "864/864 [==============================] - 5s 6ms/step - loss: 0.2869 - accuracy: 0.8763 - val_loss: 0.3251 - val_accuracy: 0.8417\n",
      "Epoch 10/10\n",
      "864/864 [==============================] - 5s 6ms/step - loss: 0.2706 - accuracy: 0.8868 - val_loss: 0.2934 - val_accuracy: 0.8729\n"
     ]
    }
   ],
   "source": [
    "# Assuming you have one-hot encoded labels (y_train_encoded, y_test_encoded)\n",
    "history = model.fit(X_train, y_train_encoded, batch_size=20, epochs=10, validation_split=0.1)"
   ]
  },
  {
   "cell_type": "code",
   "execution_count": 8,
   "id": "7f53fd04",
   "metadata": {
    "execution": {
     "iopub.execute_input": "2023-07-02T19:35:07.969512Z",
     "iopub.status.busy": "2023-07-02T19:35:07.969151Z",
     "iopub.status.idle": "2023-07-02T19:35:09.968342Z",
     "shell.execute_reply": "2023-07-02T19:35:09.967255Z"
    },
    "papermill": {
     "duration": 2.095151,
     "end_time": "2023-07-02T19:35:09.970795",
     "exception": false,
     "start_time": "2023-07-02T19:35:07.875644",
     "status": "completed"
    },
    "tags": []
   },
   "outputs": [
    {
     "name": "stdout",
     "output_type": "stream",
     "text": [
      "150/150 [==============================] - 1s 4ms/step - loss: 0.2982 - accuracy: 0.8708\n",
      "Test Loss: 0.29820430278778076\n",
      "Test Accuracy: 0.8708333373069763\n"
     ]
    }
   ],
   "source": [
    "loss, accuracy = model.evaluate(X_test, y_test_encoded)\n",
    "print(\"Test Loss:\", loss)\n",
    "print(\"Test Accuracy:\", accuracy)"
   ]
  },
  {
   "cell_type": "code",
   "execution_count": 9,
   "id": "1c88af05",
   "metadata": {
    "execution": {
     "iopub.execute_input": "2023-07-02T19:35:10.157958Z",
     "iopub.status.busy": "2023-07-02T19:35:10.156796Z",
     "iopub.status.idle": "2023-07-02T19:35:10.724393Z",
     "shell.execute_reply": "2023-07-02T19:35:10.723396Z"
    },
    "papermill": {
     "duration": 0.665515,
     "end_time": "2023-07-02T19:35:10.726640",
     "exception": false,
     "start_time": "2023-07-02T19:35:10.061125",
     "status": "completed"
    },
    "tags": []
   },
   "outputs": [
    {
     "name": "stdout",
     "output_type": "stream",
     "text": [
      "1/1 [==============================] - 0s 187ms/step\n",
      "Predicted label: cat\n",
      "Certainty:  [[0.9994552]] %\n"
     ]
    },
    {
     "data": {
      "image/png": "[encoded data removed]",
      "text/plain": [
       "<Figure size 640x480 with 1 Axes>"
      ]
     },
     "metadata": {},
     "output_type": "display_data"
    }
   ],
   "source": [
    "img_path = \"/kaggle/input/microsoft-catsvsdogs-dataset/PetImages/Cat/10016.jpg\"\n",
    "img = cv2.imread(img_path)\n",
    "imageSize = 80\n",
    "img = cv2.resize(img, (imageSize, imageSize))\n",
    "img = img / 255.0\n",
    "plt.imshow(img)\n",
    "# Assuming you have a trained model named 'model'\n",
    "img = img.astype(np.float32)\n",
    "output = model.predict(np.expand_dims(img, axis=0))\n",
    "if output > 0.5:\n",
    "    predicted_label = \"dog\"\n",
    "    certainty = output\n",
    "else:\n",
    "    predicted_label = \"cat\"\n",
    "    certainty = 1-output\n",
    "\n",
    "print(\"Predicted label:\", predicted_label)\n",
    "print(\"Certainty: \", certainty, \"%\")\n"
   ]
  }
 ],
 "metadata": {
  "kernelspec": {
   "display_name": "Python 3",
   "language": "python",
   "name": "python3"
  },
  "language_info": {
   "codemirror_mode": {
    "name": "ipython",
    "version": 3
   },
   "file_extension": ".py",
   "mimetype": "text/x-python",
   "name": "python",
   "nbconvert_exporter": "python",
   "pygments_lexer": "ipython3",
   "version": "3.10.10"
  },
  "papermill": {
   "default_parameters": {},
   "duration": 404.087455,
   "end_time": "2023-07-02T19:35:13.939281",
   "environment_variables": {},
   "exception": null,
   "input_path": "__notebook__.ipynb",
   "output_path": "__notebook__.ipynb",
   "parameters": {},
   "start_time": "2023-07-02T19:28:29.851826",
   "version": "2.4.0"
  }
 },
 "nbformat": 4,
 "nbformat_minor": 5
}
